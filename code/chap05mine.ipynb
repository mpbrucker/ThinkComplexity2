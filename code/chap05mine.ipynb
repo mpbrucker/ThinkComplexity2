{
 "cells": [
  {
   "cell_type": "markdown",
   "metadata": {},
   "source": [
    "# Cellular automata\n",
    "\n",
    "Code examples from [Think Complexity, 2nd edition](http://greenteapress.com/wp/complexity2), Chapter 5\n",
    "\n",
    "Copyright 2016 Allen Downey, [MIT License](http://opensource.org/licenses/MIT)"
   ]
  },
  {
   "cell_type": "code",
   "execution_count": 1,
   "metadata": {
    "collapsed": true
   },
   "outputs": [],
   "source": [
    "from __future__ import print_function, division\n",
    "\n",
    "%matplotlib inline\n",
    "%precision 3\n",
    "\n",
    "import warnings\n",
    "warnings.filterwarnings('ignore')\n",
    "\n",
    "import numpy as np\n",
    "import matplotlib.pyplot as plt\n",
    "\n",
    "import thinkplot"
   ]
  },
  {
   "cell_type": "code",
   "execution_count": 2,
   "metadata": {
    "collapsed": true
   },
   "outputs": [],
   "source": [
    "from thinkstats2 import RandomSeed\n",
    "RandomSeed(17)"
   ]
  },
  {
   "cell_type": "markdown",
   "metadata": {},
   "source": [
    "## Zero-dimensional CA"
   ]
  },
  {
   "cell_type": "markdown",
   "metadata": {},
   "source": [
    "Here's a simple implementation of the 0-D CA I mentioned in the book, with one cell."
   ]
  },
  {
   "cell_type": "code",
   "execution_count": 9,
   "metadata": {
    "collapsed": false
   },
   "outputs": [
    {
     "name": "stdout",
     "output_type": "stream",
     "text": [
      "[ 0.  0.  0.  0.  0.  0.  0.  0.  0.  0.]\n"
     ]
    }
   ],
   "source": [
    "n = 10\n",
    "x = np.zeros(n)\n",
    "print(x)"
   ]
  },
  {
   "cell_type": "markdown",
   "metadata": {},
   "source": [
    "To get the state of the cell in the next time step, we increment the current state mod 2."
   ]
  },
  {
   "cell_type": "code",
   "execution_count": 10,
   "metadata": {
    "collapsed": false
   },
   "outputs": [
    {
     "data": {
      "text/plain": [
       "1.000"
      ]
     },
     "execution_count": 10,
     "metadata": {},
     "output_type": "execute_result"
    }
   ],
   "source": [
    "x[1] = (x[0] + 1) % 2\n",
    "x[1]"
   ]
  },
  {
   "cell_type": "markdown",
   "metadata": {},
   "source": [
    "Filling in the rest of the array."
   ]
  },
  {
   "cell_type": "code",
   "execution_count": 11,
   "metadata": {
    "collapsed": false
   },
   "outputs": [
    {
     "name": "stdout",
     "output_type": "stream",
     "text": [
      "[ 0.  1.  0.  1.  0.  1.  0.  1.  0.  1.]\n"
     ]
    }
   ],
   "source": [
    "for i in range(2, 10):\n",
    "    x[i] = (x[i-1] + 1) % 2\n",
    "    \n",
    "print(x)"
   ]
  },
  {
   "cell_type": "markdown",
   "metadata": {},
   "source": [
    "So the behavior of this CA is simple: it blinks."
   ]
  },
  {
   "cell_type": "markdown",
   "metadata": {},
   "source": [
    "## One-dimensional CA"
   ]
  },
  {
   "cell_type": "markdown",
   "metadata": {},
   "source": [
    "Just as we used a 1-D array to show the state of a single cell over time, we'll use a 2-D array to show the state of a 1-D CA over time, with one column per cell and one row per timestep."
   ]
  },
  {
   "cell_type": "code",
   "execution_count": 12,
   "metadata": {
    "collapsed": false
   },
   "outputs": [
    {
     "name": "stdout",
     "output_type": "stream",
     "text": [
      "[[0 0 0 0 0 1 0 0 0 0 0]\n",
      " [0 0 0 0 0 0 0 0 0 0 0]\n",
      " [0 0 0 0 0 0 0 0 0 0 0]\n",
      " [0 0 0 0 0 0 0 0 0 0 0]\n",
      " [0 0 0 0 0 0 0 0 0 0 0]]\n"
     ]
    }
   ],
   "source": [
    "rows = 5\n",
    "cols = 11\n",
    "array = np.zeros((rows, cols), dtype=np.int8)\n",
    "array[0, 5] = 1\n",
    "print(array)"
   ]
  },
  {
   "cell_type": "markdown",
   "metadata": {},
   "source": [
    "To plot the array I use `plt.imshow`"
   ]
  },
  {
   "cell_type": "code",
   "execution_count": 13,
   "metadata": {
    "collapsed": false
   },
   "outputs": [],
   "source": [
    "def plot_ca(array):\n",
    "    cmap = plt.get_cmap('Blues')\n",
    "    plt.imshow(array, interpolation='none', cmap=cmap)"
   ]
  },
  {
   "cell_type": "markdown",
   "metadata": {},
   "source": [
    "Here's what it looks like after we initialize the first row."
   ]
  },
  {
   "cell_type": "code",
   "execution_count": 14,
   "metadata": {
    "collapsed": false
   },
   "outputs": [
    {
     "data": {
      "image/png": "[encoded data removed]",
      "text/plain": [
       "<matplotlib.figure.Figure at 0x7fd233c6e128>"
      ]
     },
     "metadata": {},
     "output_type": "display_data"
    }
   ],
   "source": [
    "plot_ca(array)"
   ]
  },
  {
   "cell_type": "markdown",
   "metadata": {},
   "source": [
    "And here's the function that fills in the next row.  The rule for this CA is to take the sum of a cell and its two neighbors mod 2."
   ]
  },
  {
   "cell_type": "code",
   "execution_count": 15,
   "metadata": {
    "collapsed": true
   },
   "outputs": [],
   "source": [
    "def step(array, i):\n",
    "    rows, cols = array.shape\n",
    "    for j in range(1, cols):\n",
    "        array[i, j] = sum(array[i-1, j-1:j+2]) % 2"
   ]
  },
  {
   "cell_type": "markdown",
   "metadata": {},
   "source": [
    "Here's the second row."
   ]
  },
  {
   "cell_type": "code",
   "execution_count": 16,
   "metadata": {
    "collapsed": false
   },
   "outputs": [
    {
     "data": {
      "image/png": "[encoded data removed]",
      "text/plain": [
       "<matplotlib.figure.Figure at 0x7fd233c93a58>"
      ]
     },
     "metadata": {},
     "output_type": "display_data"
    }
   ],
   "source": [
    "step(array, 1)\n",
    "plot_ca(array)"
   ]
  },
  {
   "cell_type": "markdown",
   "metadata": {},
   "source": [
    "And here's what it looks like with the rest of the cells filled in."
   ]
  },
  {
   "cell_type": "code",
   "execution_count": 17,
   "metadata": {
    "collapsed": false
   },
   "outputs": [
    {
     "data": {
      "image/png": "[encoded data removed]",
      "text/plain": [
       "<matplotlib.figure.Figure at 0x7fd231b7ce10>"
      ]
     },
     "metadata": {},
     "output_type": "display_data"
    }
   ],
   "source": [
    "for i in range(1, rows):\n",
    "    step(array, i)\n",
    "\n",
    "plot_ca(array)"
   ]
  },
  {
   "cell_type": "markdown",
   "metadata": {},
   "source": [
    "For a simple set of rules, the behavior is more interesting than you might expect."
   ]
  },
  {
   "cell_type": "markdown",
   "metadata": {},
   "source": [
    "**Exercise:** Modify this code to increase the number of rows and columns and see what this CA does after more time steps."
   ]
  },
  {
   "cell_type": "code",
   "execution_count": 18,
   "metadata": {
    "collapsed": false
   },
   "outputs": [
    {
     "data": {
      "image/png": "[encoded data removed]",
      "text/plain": [
       "<matplotlib.figure.Figure at 0x7fd231be8208>"
      ]
     },
     "metadata": {},
     "output_type": "display_data"
    }
   ],
   "source": [
    "rows = 30\n",
    "cols = 61\n",
    "array = np.zeros((rows, cols), dtype=np.int8)\n",
    "array[0, int(cols/2)] = 1\n",
    "\n",
    "for i in range(1, rows):\n",
    "    step(array, i)\n",
    "\n",
    "plot_ca(array)"
   ]
  },
  {
   "cell_type": "markdown",
   "metadata": {},
   "source": [
    "## Cross correlation"
   ]
  },
  {
   "cell_type": "markdown",
   "metadata": {},
   "source": [
    "We can step the CA through time more quickly using \"cross correlation\".  To see how it works, the first step is to replace the slice operator with array multiplication.\n",
    "\n",
    "This window selects the first three elements of an array:"
   ]
  },
  {
   "cell_type": "code",
   "execution_count": 19,
   "metadata": {
    "collapsed": false
   },
   "outputs": [
    {
     "name": "stdout",
     "output_type": "stream",
     "text": [
      "[1 1 1 0 0 0 0 0 0 0 0 0 0 0 0 0 0 0 0 0 0 0 0 0 0 0 0 0 0 0 0 0 0 0 0 0 0\n",
      " 0 0 0 0 0 0 0 0 0 0 0 0 0 0 0 0 0 0 0 0 0 0 0 0]\n",
      "[0 0 0 0 0 0 0 0 0 0 0 0 0 0 0 0 0 0 0 0 0 0 0 0 0 0 1 0 0 0 1 0 0 0 1 0 0\n",
      " 0 0 0 0 0 0 0 0 0 0 0 0 0 0 0 0 0 0 0 0 0 0 0 0]\n",
      "[0 0 0 0 0 0 0 0 0 0 0 0 0 0 0 0 0 0 0 0 0 0 0 0 0 0 0 0 0 0 0 0 0 0 0 0 0\n",
      " 0 0 0 0 0 0 0 0 0 0 0 0 0 0 0 0 0 0 0 0 0 0 0 0]\n"
     ]
    }
   ],
   "source": [
    "window = np.zeros(cols, dtype=np.int8)\n",
    "window[:3] = 1\n",
    "print(window)\n",
    "print(array[4])\n",
    "print(window * array[4])"
   ]
  },
  {
   "cell_type": "markdown",
   "metadata": {},
   "source": [
    "Then we can use `sum` and the modulus operator to compute the state of the first cell during the next timestep."
   ]
  },
  {
   "cell_type": "code",
   "execution_count": 20,
   "metadata": {
    "collapsed": false
   },
   "outputs": [
    {
     "data": {
      "text/plain": [
       "0"
      ]
     },
     "execution_count": 20,
     "metadata": {},
     "output_type": "execute_result"
    }
   ],
   "source": [
    "sum(window * array[4]) % 2"
   ]
  },
  {
   "cell_type": "markdown",
   "metadata": {},
   "source": [
    "To compute the state of the next cell, we shift the window to the right."
   ]
  },
  {
   "cell_type": "code",
   "execution_count": 21,
   "metadata": {
    "collapsed": false
   },
   "outputs": [
    {
     "name": "stdout",
     "output_type": "stream",
     "text": [
      "[0 1 1 1 0 0 0 0 0 0 0 0 0 0 0 0 0 0 0 0 0 0 0 0 0 0 0 0 0 0 0 0 0 0 0 0 0\n",
      " 0 0 0 0 0 0 0 0 0 0 0 0 0 0 0 0 0 0 0 0 0 0 0 0]\n"
     ]
    }
   ],
   "source": [
    "window = np.roll(window, 1)\n",
    "print(window)"
   ]
  },
  {
   "cell_type": "markdown",
   "metadata": {},
   "source": [
    "And repeat the multiply-sum-modulus operations."
   ]
  },
  {
   "cell_type": "code",
   "execution_count": 22,
   "metadata": {
    "collapsed": false
   },
   "outputs": [
    {
     "data": {
      "text/plain": [
       "0"
      ]
     },
     "execution_count": 22,
     "metadata": {},
     "output_type": "execute_result"
    }
   ],
   "source": [
    "sum(window * array[4]) % 2"
   ]
  },
  {
   "cell_type": "markdown",
   "metadata": {},
   "source": [
    "Now we can rewrite `step` using these operations."
   ]
  },
  {
   "cell_type": "code",
   "execution_count": 23,
   "metadata": {
    "collapsed": true
   },
   "outputs": [],
   "source": [
    "def step2(array, i):\n",
    "    rows, cols = array.shape\n",
    "    window = np.zeros(cols)\n",
    "    window[:3] = 1\n",
    "    for j in range(1, cols):\n",
    "        array[i, j] = sum(window * array[i-1]) % 2\n",
    "        window = np.roll(window, 1)"
   ]
  },
  {
   "cell_type": "markdown",
   "metadata": {},
   "source": [
    "And we can confirm that we get the same result."
   ]
  },
  {
   "cell_type": "code",
   "execution_count": 24,
   "metadata": {
    "collapsed": false
   },
   "outputs": [
    {
     "data": {
      "image/png": "[encoded data removed]",
      "text/plain": [
       "<matplotlib.figure.Figure at 0x7fd231c5b2e8>"
      ]
     },
     "metadata": {},
     "output_type": "display_data"
    }
   ],
   "source": [
    "for i in range(1, rows):\n",
    "    step2(array, i)\n",
    "\n",
    "plot_ca(array)"
   ]
  },
  {
   "cell_type": "markdown",
   "metadata": {},
   "source": [
    "That sequence of operations is called a \"sliding dot product\" or \"cross correlation\", and NumPy provides a function that computes it.  So we can replace the `for` loop with `np.correlate`.  The parameter `mode='same'` means that the result has the same length as `array[i]`. "
   ]
  },
  {
   "cell_type": "code",
   "execution_count": 25,
   "metadata": {
    "collapsed": true
   },
   "outputs": [],
   "source": [
    "def step3(array, i):\n",
    "    window = np.array([1, 1, 1])\n",
    "    array[i] = np.correlate(array[i-1], window, mode='same') % 2"
   ]
  },
  {
   "cell_type": "markdown",
   "metadata": {},
   "source": [
    "And the result is the same."
   ]
  },
  {
   "cell_type": "code",
   "execution_count": 26,
   "metadata": {
    "collapsed": false
   },
   "outputs": [
    {
     "data": {
      "image/png": "[encoded data removed]",
      "text/plain": [
       "<matplotlib.figure.Figure at 0x7fd231b2ea90>"
      ]
     },
     "metadata": {},
     "output_type": "display_data"
    }
   ],
   "source": [
    "for i in range(1, rows):\n",
    "    step3(array, i)\n",
    "\n",
    "plot_ca(array)"
   ]
  },
  {
   "cell_type": "markdown",
   "metadata": {},
   "source": [
    "So that's good enough for a CA that only depends on the total number of \"on\" cells, but for more general CAs, we need a table that maps from the configuration of the neighborhood to the future state of the center cell.\n",
    "\n",
    "The following function makes the table by interpreting the Rule number in binary."
   ]
  },
  {
   "cell_type": "code",
   "execution_count": 27,
   "metadata": {
    "collapsed": true
   },
   "outputs": [],
   "source": [
    "def make_table(rule):\n",
    "    \"\"\"Make the table for a given CA rule.\n",
    "    \n",
    "    rule: int 0-255\n",
    "    \n",
    "    returns: array of 8 0s and 1s\n",
    "    \"\"\"\n",
    "    rule = np.array([rule], dtype=np.uint8)\n",
    "    table = np.unpackbits(rule)[::-1]\n",
    "    return table"
   ]
  },
  {
   "cell_type": "markdown",
   "metadata": {},
   "source": [
    "Here's what it looks like as an array:"
   ]
  },
  {
   "cell_type": "code",
   "execution_count": 28,
   "metadata": {
    "collapsed": false
   },
   "outputs": [
    {
     "name": "stdout",
     "output_type": "stream",
     "text": [
      "[0 1 1 0 1 0 0 1]\n"
     ]
    }
   ],
   "source": [
    "table = make_table(150)\n",
    "print(table)"
   ]
  },
  {
   "cell_type": "markdown",
   "metadata": {},
   "source": [
    "If we correlate the row with the window `[4, 2, 1]`, it treats each neighborhood as a binary number between 000 and 111."
   ]
  },
  {
   "cell_type": "code",
   "execution_count": 29,
   "metadata": {
    "collapsed": false
   },
   "outputs": [
    {
     "name": "stdout",
     "output_type": "stream",
     "text": [
      "[0 0 0 0 0 0 0 0 0 0 0 0 0 0 0 0 0 0 0 0 0 0 0 0 0 0 0 0 0 0 1 0 0 0 0 0 0\n",
      " 0 0 0 0 0 0 0 0 0 0 0 0 0 0 0 0 0 0 0 0 0 0 0 0]\n",
      "[0 0 0 0 0 0 0 0 0 0 0 0 0 0 0 0 0 0 0 0 0 0 0 0 0 0 0 0 0 1 2 4 0 0 0 0 0\n",
      " 0 0 0 0 0 0 0 0 0 0 0 0 0 0 0 0 0 0 0 0 0 0 0 0]\n"
     ]
    }
   ],
   "source": [
    "window = [4, 2, 1]\n",
    "corr = np.correlate(array[0], window, mode='same')\n",
    "print(array[0])\n",
    "print(corr)"
   ]
  },
  {
   "cell_type": "markdown",
   "metadata": {},
   "source": [
    "Now we can use the result from `np.correlate` as an index into the table; the result is the next row of the array."
   ]
  },
  {
   "cell_type": "code",
   "execution_count": 30,
   "metadata": {
    "collapsed": false
   },
   "outputs": [
    {
     "name": "stdout",
     "output_type": "stream",
     "text": [
      "[0 0 0 0 0 0 0 0 0 0 0 0 0 0 0 0 0 0 0 0 0 0 0 0 0 0 0 0 0 1 1 1 0 0 0 0 0\n",
      " 0 0 0 0 0 0 0 0 0 0 0 0 0 0 0 0 0 0 0 0 0 0 0 0]\n"
     ]
    }
   ],
   "source": [
    "array[1] = table[corr]\n",
    "print(array[1])"
   ]
  },
  {
   "cell_type": "markdown",
   "metadata": {},
   "source": [
    "We can wrap up that code in a function:"
   ]
  },
  {
   "cell_type": "code",
   "execution_count": 31,
   "metadata": {
    "collapsed": true
   },
   "outputs": [],
   "source": [
    "def step4(array, i):\n",
    "    window = np.array([4, 2, 1])\n",
    "    corr = np.correlate(array[i-1], window, mode='same')\n",
    "    array[i] = table[corr]"
   ]
  },
  {
   "cell_type": "markdown",
   "metadata": {},
   "source": [
    "And test it again."
   ]
  },
  {
   "cell_type": "code",
   "execution_count": 32,
   "metadata": {
    "collapsed": false
   },
   "outputs": [
    {
     "data": {
      "image/png": "[encoded data removed]",
      "text/plain": [
       "<matplotlib.figure.Figure at 0x7fd231af5278>"
      ]
     },
     "metadata": {},
     "output_type": "display_data"
    }
   ],
   "source": [
    "for i in range(1, rows):\n",
    "    step4(array, i)\n",
    "\n",
    "plot_ca(array)"
   ]
  },
  {
   "cell_type": "markdown",
   "metadata": {},
   "source": [
    "How did I know that Rule 150 is the same as the previous CA?  I wrote out the table and converted it to binary."
   ]
  },
  {
   "cell_type": "markdown",
   "metadata": {
    "collapsed": true
   },
   "source": [
    "## The Cell1D object"
   ]
  },
  {
   "cell_type": "markdown",
   "metadata": {},
   "source": [
    "`Cell1D.py` provides a `Cell1D` class that encapsulates the code from the previous section.\n",
    "\n",
    "Here's an example that runs a Rule 50 CA for 10 steps."
   ]
  },
  {
   "cell_type": "code",
   "execution_count": 3,
   "metadata": {
    "collapsed": false
   },
   "outputs": [],
   "source": [
    "from Cell1D import Cell1D, Cell1DViewer"
   ]
  },
  {
   "cell_type": "code",
   "execution_count": 34,
   "metadata": {
    "collapsed": false
   },
   "outputs": [],
   "source": [
    "rule = 50\n",
    "n = 10\n",
    "ca = Cell1D(rule, n)\n",
    "ca.start_single()\n",
    "ca.loop(n-1)"
   ]
  },
  {
   "cell_type": "markdown",
   "metadata": {},
   "source": [
    "We can display the results:"
   ]
  },
  {
   "cell_type": "code",
   "execution_count": 35,
   "metadata": {
    "collapsed": false
   },
   "outputs": [
    {
     "data": {
      "image/png": "[encoded data removed]",
      "text/plain": [
       "<matplotlib.figure.Figure at 0x7fd231a4c3c8>"
      ]
     },
     "metadata": {},
     "output_type": "display_data"
    }
   ],
   "source": [
    "viewer = Cell1DViewer(ca)\n",
    "viewer.draw()\n",
    "\n",
    "plt.savefig('chap05-1.pdf')"
   ]
  },
  {
   "cell_type": "markdown",
   "metadata": {},
   "source": [
    "Here's the Rule 50 table."
   ]
  },
  {
   "cell_type": "code",
   "execution_count": 36,
   "metadata": {
    "collapsed": false
   },
   "outputs": [
    {
     "name": "stdout",
     "output_type": "stream",
     "text": [
      "[0 1 0 0 1 1 0 0]\n"
     ]
    }
   ],
   "source": [
    "print(ca.table)"
   ]
  },
  {
   "cell_type": "markdown",
   "metadata": {},
   "source": [
    "Another example:"
   ]
  },
  {
   "cell_type": "code",
   "execution_count": 37,
   "metadata": {
    "collapsed": true
   },
   "outputs": [],
   "source": [
    "rule = 150\n",
    "n = 5\n",
    "ca = Cell1D(rule, n)\n",
    "ca.start_single()\n",
    "ca.loop(n-1)"
   ]
  },
  {
   "cell_type": "code",
   "execution_count": 38,
   "metadata": {
    "collapsed": false
   },
   "outputs": [
    {
     "data": {
      "image/png": "[encoded data removed]",
      "text/plain": [
       "<matplotlib.figure.Figure at 0x7fd231a62470>"
      ]
     },
     "metadata": {},
     "output_type": "display_data"
    }
   ],
   "source": [
    "viewer = Cell1DViewer(ca)\n",
    "viewer.draw()\n",
    "\n",
    "plt.savefig('chap05-2.pdf')"
   ]
  },
  {
   "cell_type": "markdown",
   "metadata": {},
   "source": [
    "And one more example showing recursive structure."
   ]
  },
  {
   "cell_type": "code",
   "execution_count": 39,
   "metadata": {
    "collapsed": true
   },
   "outputs": [],
   "source": [
    "rule = 18\n",
    "n = 64\n",
    "ca = Cell1D(rule, n)\n",
    "ca.start_single()\n",
    "ca.loop(n-1)"
   ]
  },
  {
   "cell_type": "code",
   "execution_count": 40,
   "metadata": {
    "collapsed": false
   },
   "outputs": [
    {
     "data": {
      "image/png": "[encoded data removed]",
      "text/plain": [
       "<matplotlib.figure.Figure at 0x7fd231a5d5f8>"
      ]
     },
     "metadata": {},
     "output_type": "display_data"
    }
   ],
   "source": [
    "viewer = Cell1DViewer(ca)\n",
    "viewer.draw()\n",
    "\n",
    "plt.savefig('chap05-3.pdf')"
   ]
  },
  {
   "cell_type": "markdown",
   "metadata": {},
   "source": [
    "Rule 30 generates a sequence of bits that is indistinguishable from random:"
   ]
  },
  {
   "cell_type": "code",
   "execution_count": 41,
   "metadata": {
    "collapsed": true
   },
   "outputs": [],
   "source": [
    "rule = 30\n",
    "n = 100\n",
    "ca = Cell1D(rule, n)\n",
    "ca.start_single()\n",
    "ca.loop(n-1)"
   ]
  },
  {
   "cell_type": "code",
   "execution_count": 42,
   "metadata": {
    "collapsed": false
   },
   "outputs": [
    {
     "data": {
      "image/png": "[encoded data removed]",
      "text/plain": [
       "<matplotlib.figure.Figure at 0x7fd231720b70>"
      ]
     },
     "metadata": {},
     "output_type": "display_data"
    }
   ],
   "source": [
    "viewer = Cell1DViewer(ca)\n",
    "viewer.draw()\n",
    "\n",
    "plt.savefig('chap05-4.pdf')"
   ]
  },
  {
   "cell_type": "markdown",
   "metadata": {},
   "source": [
    "And Rule 110 is Turing complete!"
   ]
  },
  {
   "cell_type": "code",
   "execution_count": 43,
   "metadata": {
    "collapsed": true
   },
   "outputs": [],
   "source": [
    "rule = 110\n",
    "n = 100\n",
    "ca = Cell1D(rule, n)\n",
    "ca.start_single()\n",
    "ca.loop(n-1)"
   ]
  },
  {
   "cell_type": "code",
   "execution_count": 44,
   "metadata": {
    "collapsed": false
   },
   "outputs": [
    {
     "data": {
      "image/png": "[encoded data removed]",
      "text/plain": [
       "<matplotlib.figure.Figure at 0x7fd2316f04e0>"
      ]
     },
     "metadata": {},
     "output_type": "display_data"
    }
   ],
   "source": [
    "viewer = Cell1DViewer(ca)\n",
    "viewer.draw()\n",
    "\n",
    "plt.savefig('chap05-5.pdf')"
   ]
  },
  {
   "cell_type": "markdown",
   "metadata": {},
   "source": [
    "Heres a longer run that has some spaceships."
   ]
  },
  {
   "cell_type": "code",
   "execution_count": 45,
   "metadata": {
    "collapsed": true
   },
   "outputs": [],
   "source": [
    "rule = 110\n",
    "n = 600\n",
    "ca = Cell1D(rule, n)\n",
    "ca.start_random()\n",
    "ca.loop(n-1)"
   ]
  },
  {
   "cell_type": "code",
   "execution_count": 46,
   "metadata": {
    "collapsed": false
   },
   "outputs": [
    {
     "data": {
      "image/png": "[encoded data removed]",
      "text/plain": [
       "<matplotlib.figure.Figure at 0x7fd2316f0550>"
      ]
     },
     "metadata": {},
     "output_type": "display_data"
    }
   ],
   "source": [
    "viewer = Cell1DViewer(ca)\n",
    "viewer.draw()\n",
    "\n",
    "plt.savefig('chap05-6.pdf')"
   ]
  },
  {
   "cell_type": "markdown",
   "metadata": {},
   "source": [
    "## Exercises"
   ]
  },
  {
   "cell_type": "markdown",
   "metadata": {},
   "source": [
    "**Exercise:** This exercise asks you to experiment with Rule 110 and see how\n",
    "many spaceships you can find.\n",
    "\n",
    "1. Read the [Wikipedia page about Rule 110](https://en.wikipedia.org/wiki/Rule_110), which describes its background pattern and spaceships.\n",
    "\n",
    "2. Create a Rule 110 CA with an initial condition that yields the\n",
    "  stable background pattern.  Note that the CA class provides\n",
    "`start_string`, which allow you to initialize the state of\n",
    "the array using a string of `1`s and `0`s.\n",
    "\n",
    "3. Modify the initial condition by adding different patterns in the\n",
    "  center of the row and see which ones yield spaceships.  You might\n",
    "  want to enumerate all possible patterns of $n$ bits, for some\n",
    "  reasonable value of $n$.  For each spaceship, can you find the\n",
    "  period and rate of translation?  What is the biggest spaceship you\n",
    "  can find?\n",
    "\n",
    "4. What happens when spaceships collide?"
   ]
  },
  {
   "cell_type": "code",
   "execution_count": 54,
   "metadata": {
    "collapsed": false
   },
   "outputs": [
    {
     "data": {
      "image/png": "[encoded data removed]",
      "text/plain": [
       "<matplotlib.figure.Figure at 0x7fd231677f98>"
      ]
     },
     "metadata": {},
     "output_type": "display_data"
    }
   ],
   "source": [
    "\n",
    "CA_size = 8\n",
    "rule = 110\n",
    "n = 14*CA_size # The size of the CA\n",
    "ca = Cell1D(rule, n, n)\n",
    "\n",
    "\n",
    "start_cond= [0,0,0,1,0,0,1,1,0,1,1,1,1,1]*CA_size\n",
    "start_str = ''.join(str(int(val)) for val in start_cond) # Convert start conditions to a string\n",
    "\n",
    "ca.start_string(start_str)\n",
    "ca.loop(n-1)\n",
    "\n",
    "viewer = Cell1DViewer(ca)\n",
    "viewer.draw()"
   ]
  },
  {
   "cell_type": "code",
   "execution_count": 55,
   "metadata": {
    "collapsed": false
   },
   "outputs": [
    {
     "data": {
      "image/png": "[encoded data removed]",
      "text/plain": [
       "<matplotlib.figure.Figure at 0x7fd231a569b0>"
      ]
     },
     "metadata": {},
     "output_type": "display_data"
    }
   ],
   "source": [
    "ca = Cell1D(rule, n, n)\n",
    "start_cond= [0,0,0,1,0,0,1,1,0,1,1,1,1,1]*CA_size # Initial conditions\n",
    "start_cond[20:25] = [0, 1, 0, 1, 0] # Change some values to try to make a spaceship\n",
    "start_str = ''.join(str(int(val)) for val in start_cond) # Convert start conditions to a string\n",
    "ca.start_string(start_str)\n",
    "ca.loop(n-1)\n",
    "\n",
    "viewer = Cell1DViewer(ca)\n",
    "viewer.draw()"
   ]
  },
  {
   "cell_type": "markdown",
   "metadata": {},
   "source": [
    "> This spaceship has a period of 3, since the pattern repeats every 3 timesteps, and a rate of translation of 2 units every 3 timesteps."
   ]
  },
  {
   "cell_type": "code",
   "execution_count": 63,
   "metadata": {
    "collapsed": false
   },
   "outputs": [
    {
     "data": {
      "image/png": "[encoded data removed]",
      "text/plain": [
       "<matplotlib.figure.Figure at 0x7fd231b62ef0>"
      ]
     },
     "metadata": {},
     "output_type": "display_data"
    }
   ],
   "source": [
    "ca = Cell1D(rule, n, n)\n",
    "start_cond= [0,0,0,1,0,0,1,1,0,1,1,1,1,1]*CA_size # Initial conditions\n",
    "start_cond[20:25] = [0,1,1,1,0] # Change some values to try to make a spaceship\n",
    "start_str = ''.join(str(int(val)) for val in start_cond) # Convert start conditions to a string\n",
    "ca.start_string(start_str)\n",
    "ca.loop(n-1)\n",
    "\n",
    "viewer = Cell1DViewer(ca)\n",
    "viewer.draw()"
   ]
  },
  {
   "cell_type": "markdown",
   "metadata": {},
   "source": [
    "> This spaceship appears to have the same period and rate of translation as the other spaceship, but it's much larger; it also forms two separate spaceships that run parallel."
   ]
  },
  {
   "cell_type": "code",
   "execution_count": 74,
   "metadata": {
    "collapsed": false
   },
   "outputs": [
    {
     "data": {
      "image/png": "[encoded data removed]",
      "text/plain": [
       "<matplotlib.figure.Figure at 0x7fd231c4d240>"
      ]
     },
     "metadata": {},
     "output_type": "display_data"
    }
   ],
   "source": [
    "ca = Cell1D(rule, n, n)\n",
    "start_cond= [0,0,0,1,0,0,1,1,0,1,1,1,1,1]*CA_size # Initial conditions\n",
    "start_cond[30:37] = [0,0,0,0,0,0,1] # Change some values to try to make a spaceship\n",
    "start_str = ''.join(str(int(val)) for val in start_cond) # Convert start conditions to a string\n",
    "ca.start_string(start_str)\n",
    "ca.loop(n-1)\n",
    "\n",
    "viewer = Cell1DViewer(ca)\n",
    "viewer.draw()"
   ]
  },
  {
   "cell_type": "markdown",
   "metadata": {},
   "source": [
    "> This pattern generates two stable spaceships that translate directly downward, with period 6."
   ]
  },
  {
   "cell_type": "code",
   "execution_count": 80,
   "metadata": {
    "collapsed": false
   },
   "outputs": [
    {
     "data": {
      "image/png": "[encoded data removed]",
      "text/plain": [
       "<matplotlib.figure.Figure at 0x7fd231642358>"
      ]
     },
     "metadata": {},
     "output_type": "display_data"
    }
   ],
   "source": [
    "ca = Cell1D(rule, n*2, n)\n",
    "start_cond= [0,0,0,1,0,0,1,1,0,1,1,1,1,1]*CA_size # Initial conditions\n",
    "start_cond[58:65] = [0,0,0,0,0,0,1] # Change some values to try to make a spaceship\n",
    "start_cond[20:25] = [0,1,1,1,0] # Change some values to try to make a spaceship\n",
    "start_str = ''.join(str(int(val)) for val in start_cond) # Convert start conditions to a string\n",
    "ca.start_string(start_str)\n",
    "ca.loop((n*2)-1)\n",
    "\n",
    "viewer = Cell1DViewer(ca)\n",
    "viewer.draw()"
   ]
  },
  {
   "cell_type": "markdown",
   "metadata": {
    "collapsed": false
   },
   "source": [
    "> When these two spaceships collide, they appear to generate some sort of random objects that scatter to the left."
   ]
  },
  {
   "cell_type": "markdown",
   "metadata": {},
   "source": [
    "**Exercise:** The goal of this exercise is to implement a Turing machine.\n",
    "\n",
    "1. Read about Turing machines at http://en.wikipedia.org/wiki/Turing_machine.\n",
    "\n",
    "2. Write a class called `Turing` that implements a Turing machine.  For the action table, use the rules for a 3-state busy beaver.\n",
    "\n",
    "3. Write a class named `TuringDrawer` that generates an image that represents the state of the tape and the position and state of the head.  For one example of what that might look like, see http://mathworld.wolfram.com/TuringMachine.html.\n"
   ]
  },
  {
   "cell_type": "code",
   "execution_count": 100,
   "metadata": {
    "collapsed": false
   },
   "outputs": [],
   "source": [
    "import numpy as np\n",
    "class Turing:\n",
    "    def __init__(self, n, m):\n",
    "        self.array = np.zeros((n,m))\n",
    "        self.max_time=n\n",
    "        self.time=0\n",
    "        self.state = 0\n",
    "        self.states = []\n",
    "        self.pos = 0\n",
    "        self.pos_list = []\n",
    "        self.tape = np.random.randint(2,size=m)\n",
    "        \n",
    "    def update(self):\n",
    "        if self.time < self.max_time:\n",
    "            self.array[self.time,:] = self.tape\n",
    "            self.pos_list.append((self.pos % len(self.tape)+0.5, self.max_time-self.time))\n",
    "            self.states.extend([self.state])\n",
    "            if self.state != 3:\n",
    "                action = self.get_action(self.tape[self.pos], self.state)\n",
    "                self.tape[self.pos] = action[0]\n",
    "                self.pos += action[1]\n",
    "                self.state = action[2]\n",
    "            self.time+=1\n",
    "\n",
    "    def get_action(self, symbol, state):\n",
    "        rules = {0: {0: (1, 1, 1), 1: (1, -1, 0), 2: (1, -1, 1)}, 1: {0: (1, -1, 2), 1: (1, 1, 1), 2: (1, 1, 3)}}\n",
    "        return rules[symbol][state]\n",
    "        "
   ]
  },
  {
   "cell_type": "code",
   "execution_count": 101,
   "metadata": {
    "collapsed": false
   },
   "outputs": [
    {
     "name": "stdout",
     "output_type": "stream",
     "text": [
      "[0, '*', '*', '*', '*', '*', '*', '*', '*', '*']\n",
      "[1 1 0 1 1 0 0 0 1 1 1 1 1 0 1 0 1 0 0 0]\n",
      "['*', '*', '*', '*', '*', '*', '*', '*', '*', 2]\n",
      "[1 1 0 1 1 0 0 0 1 1 1 1 1 0 1 0 1 0 0 0]\n",
      "['*', '*', '*', '*', '*', '*', '*', '*', 1, '*']\n",
      "[1 1 0 1 1 0 0 0 1 1 1 1 1 0 1 0 1 0 0 1]\n",
      "['*', '*', '*', '*', '*', '*', '*', 0, '*', '*']\n",
      "[1 1 0 1 1 0 0 0 1 1 1 1 1 0 1 0 1 0 1 1]\n",
      "['*', '*', '*', '*', '*', '*', '*', '*', 1, '*']\n",
      "[1 1 0 1 1 0 0 0 1 1 1 1 1 0 1 0 1 1 1 1]\n",
      "['*', '*', '*', '*', '*', '*', '*', '*', '*', 1]\n",
      "[1 1 0 1 1 0 0 0 1 1 1 1 1 0 1 0 1 1 1 1]\n",
      "[1, '*', '*', '*', '*', '*', '*', '*', '*', '*']\n",
      "[1 1 0 1 1 0 0 0 1 1 1 1 1 0 1 0 1 1 1 1]\n",
      "['*', 1, '*', '*', '*', '*', '*', '*', '*', '*']\n",
      "[1 1 0 1 1 0 0 0 1 1 1 1 1 0 1 0 1 1 1 1]\n",
      "['*', '*', 1, '*', '*', '*', '*', '*', '*', '*']\n",
      "[1 1 0 1 1 0 0 0 1 1 1 1 1 0 1 0 1 1 1 1]\n",
      "['*', 0, '*', '*', '*', '*', '*', '*', '*', '*']\n",
      "[1 1 1 1 1 0 0 0 1 1 1 1 1 0 1 0 1 1 1 1]\n",
      "[2, '*', '*', '*', '*', '*', '*', '*', '*', '*']\n",
      "[1 1 1 1 1 0 0 0 1 1 1 1 1 0 1 0 1 1 1 1]\n",
      "['*', 3, '*', '*', '*', '*', '*', '*', '*', '*']\n",
      "[1 1 1 1 1 0 0 0 1 1 1 1 1 0 1 0 1 1 1 1]\n",
      "['*', 3, '*', '*', '*', '*', '*', '*', '*', '*']\n",
      "[1 1 1 1 1 0 0 0 1 1 1 1 1 0 1 0 1 1 1 1]\n",
      "['*', 3, '*', '*', '*', '*', '*', '*', '*', '*']\n",
      "[1 1 1 1 1 0 0 0 1 1 1 1 1 0 1 0 1 1 1 1]\n",
      "['*', 3, '*', '*', '*', '*', '*', '*', '*', '*']\n",
      "[1 1 1 1 1 0 0 0 1 1 1 1 1 0 1 0 1 1 1 1]\n",
      "['*', 3, '*', '*', '*', '*', '*', '*', '*', '*']\n",
      "[1 1 1 1 1 0 0 0 1 1 1 1 1 0 1 0 1 1 1 1]\n",
      "['*', 3, '*', '*', '*', '*', '*', '*', '*', '*']\n",
      "[1 1 1 1 1 0 0 0 1 1 1 1 1 0 1 0 1 1 1 1]\n",
      "['*', 3, '*', '*', '*', '*', '*', '*', '*', '*']\n",
      "[1 1 1 1 1 0 0 0 1 1 1 1 1 0 1 0 1 1 1 1]\n",
      "['*', 3, '*', '*', '*', '*', '*', '*', '*', '*']\n",
      "[1 1 1 1 1 0 0 0 1 1 1 1 1 0 1 0 1 1 1 1]\n",
      "['*', 3, '*', '*', '*', '*', '*', '*', '*', '*']\n",
      "[1 1 1 1 1 0 0 0 1 1 1 1 1 0 1 0 1 1 1 1]\n",
      "[[ 1.  1.  0.  1.  1.  0.  0.  0.  1.  1.  1.  1.  1.  0.  1.  0.  1.  0.\n",
      "   0.  0.]\n",
      " [ 1.  1.  0.  1.  1.  0.  0.  0.  1.  1.  1.  1.  1.  0.  1.  0.  1.  0.\n",
      "   0.  0.]\n",
      " [ 1.  1.  0.  1.  1.  0.  0.  0.  1.  1.  1.  1.  1.  0.  1.  0.  1.  0.\n",
      "   0.  1.]\n",
      " [ 1.  1.  0.  1.  1.  0.  0.  0.  1.  1.  1.  1.  1.  0.  1.  0.  1.  0.\n",
      "   1.  1.]\n",
      " [ 1.  1.  0.  1.  1.  0.  0.  0.  1.  1.  1.  1.  1.  0.  1.  0.  1.  1.\n",
      "   1.  1.]\n",
      " [ 1.  1.  0.  1.  1.  0.  0.  0.  1.  1.  1.  1.  1.  0.  1.  0.  1.  1.\n",
      "   1.  1.]\n",
      " [ 1.  1.  0.  1.  1.  0.  0.  0.  1.  1.  1.  1.  1.  0.  1.  0.  1.  1.\n",
      "   1.  1.]\n",
      " [ 1.  1.  0.  1.  1.  0.  0.  0.  1.  1.  1.  1.  1.  0.  1.  0.  1.  1.\n",
      "   1.  1.]\n",
      " [ 1.  1.  0.  1.  1.  0.  0.  0.  1.  1.  1.  1.  1.  0.  1.  0.  1.  1.\n",
      "   1.  1.]\n",
      " [ 1.  1.  1.  1.  1.  0.  0.  0.  1.  1.  1.  1.  1.  0.  1.  0.  1.  1.\n",
      "   1.  1.]\n",
      " [ 1.  1.  1.  1.  1.  0.  0.  0.  1.  1.  1.  1.  1.  0.  1.  0.  1.  1.\n",
      "   1.  1.]\n",
      " [ 1.  1.  1.  1.  1.  0.  0.  0.  1.  1.  1.  1.  1.  0.  1.  0.  1.  1.\n",
      "   1.  1.]\n",
      " [ 1.  1.  1.  1.  1.  0.  0.  0.  1.  1.  1.  1.  1.  0.  1.  0.  1.  1.\n",
      "   1.  1.]\n",
      " [ 1.  1.  1.  1.  1.  0.  0.  0.  1.  1.  1.  1.  1.  0.  1.  0.  1.  1.\n",
      "   1.  1.]\n",
      " [ 1.  1.  1.  1.  1.  0.  0.  0.  1.  1.  1.  1.  1.  0.  1.  0.  1.  1.\n",
      "   1.  1.]\n",
      " [ 1.  1.  1.  1.  1.  0.  0.  0.  1.  1.  1.  1.  1.  0.  1.  0.  1.  1.\n",
      "   1.  1.]\n",
      " [ 1.  1.  1.  1.  1.  0.  0.  0.  1.  1.  1.  1.  1.  0.  1.  0.  1.  1.\n",
      "   1.  1.]\n",
      " [ 1.  1.  1.  1.  1.  0.  0.  0.  1.  1.  1.  1.  1.  0.  1.  0.  1.  1.\n",
      "   1.  1.]\n",
      " [ 1.  1.  1.  1.  1.  0.  0.  0.  1.  1.  1.  1.  1.  0.  1.  0.  1.  1.\n",
      "   1.  1.]\n",
      " [ 1.  1.  1.  1.  1.  0.  0.  0.  1.  1.  1.  1.  1.  0.  1.  0.  1.  1.\n",
      "   1.  1.]]\n"
     ]
    }
   ],
   "source": [
    "turing_machine = Turing(20, 20)\n",
    "for _ in range(20):\n",
    "    pos = ['*']*10\n",
    "    pos[turing_machine.pos] = turing_machine.state\n",
    "    print(pos)\n",
    "    print(turing_machine.tape)\n",
    "    turing_machine.update()\n",
    "print(turing_machine.array)\n",
    "    "
   ]
  },
  {
   "cell_type": "code",
   "execution_count": 108,
   "metadata": {
    "collapsed": false
   },
   "outputs": [],
   "source": [
    "class TuringDrawer:\n",
    "    \"\"\"Draws a CA object using matplotlib.\"\"\"\n",
    "\n",
    "    cmap = plt.get_cmap('Blues')\n",
    "    options = dict(alpha=0.7, interpolation='nearest')\n",
    "\n",
    "    def __init__(self, ca):\n",
    "        self.ca = ca\n",
    "\n",
    "    def draw(self, start=0, end=None):\n",
    "        \"\"\"Draws the CA using pyplot.imshow.\n",
    "\n",
    "        start: index of the first column to be shown\n",
    "        end: index of the last column to be shown\n",
    "        \"\"\"\n",
    "        a = self.ca.array\n",
    "        n, m = a.shape\n",
    "        plt.axis([0, m, 0, n])\n",
    "        print(list(zip(*self.ca.pos_list)))\n",
    "\n",
    "        self.options['extent'] = [0, m, 0, n]\n",
    "        plt.imshow(a, cmap=self.cmap, **self.options)   \n",
    "        colors = {0: (1,0,0), 1: (0,1,0), 2: (0,0,1), 3: (0,0,0)}\n",
    "        color_list = [colors[state] for state in self.ca.states]\n",
    "        plt.scatter(*list(zip(*self.ca.pos_list)), c=color_list)\n",
    "        plt.scatter(-1,-1, label=\"State 1\", color='r')\n",
    "        plt.scatter(-1,-1, label=\"State 2\", color='g')\n",
    "        plt.scatter(-1,-1, label=\"state 3\", color='b')\n",
    "        plt.scatter(-1,-1, label=\"HALT\", color='black')\n",
    "\n",
    "        plt.legend()\n",
    "        plt.show()"
   ]
  },
  {
   "cell_type": "code",
   "execution_count": 109,
   "metadata": {
    "collapsed": false
   },
   "outputs": [
    {
     "name": "stdout",
     "output_type": "stream",
     "text": [
      "[(0.5, 19.5, 18.5, 17.5, 18.5, 19.5, 0.5, 1.5, 2.5, 1.5, 0.5, 1.5, 1.5, 1.5, 1.5, 1.5, 1.5, 1.5, 1.5, 1.5), (20, 19, 18, 17, 16, 15, 14, 13, 12, 11, 10, 9, 8, 7, 6, 5, 4, 3, 2, 1)]\n"
     ]
    },
    {
     "data": {
      "image/png": "[encoded data removed]",
      "text/plain": [
       "<matplotlib.figure.Figure at 0x7fd25c941828>"
      ]
     },
     "metadata": {},
     "output_type": "display_data"
    }
   ],
   "source": [
    "drawer = TuringDrawer(turing_machine)\n",
    "drawer.draw()"
   ]
  },
  {
   "cell_type": "markdown",
   "metadata": {},
   "source": [
    "> Note that in my implementation, the tape is not infinite, which effectively makes this not a Turing machine since the tape isn't infinite. However, for the sake of simplicity, I decided to keep it like that."
   ]
  },
  {
   "cell_type": "markdown",
   "metadata": {},
   "source": [
    "**Exercise:** This exercise asks you to implement and test several PRNGs.\n",
    "For testing, you will need to install \n",
    "`DieHarder`, which you can download from \n",
    "https://www.phy.duke.edu/~rgb/General/dieharder.php, or it\n",
    "might be available as a package for your operating system.\n",
    "\n",
    "1. Write a program that implements one of the linear congruential\n",
    "generators described at http://en.wikipedia.org/wiki/Linear_congruential_generator}.\n",
    "Test it using `DieHarder`.\n",
    "\n",
    "2. Read the documentation of Python's `random` module.\n",
    "What PRNG does it use?  Test it.\n",
    "\n",
    "3. Implement a Rule 30 CA with a few hundred cells,\n",
    "run it for as many time steps as you can in a reasonable amount\n",
    "of time, and output the center column as a sequence of bits.\n",
    "Test it.\n"
   ]
  },
  {
   "cell_type": "code",
   "execution_count": 116,
   "metadata": {
    "collapsed": false
   },
   "outputs": [
    {
     "name": "stdout",
     "output_type": "stream",
     "text": [
      "1083814273.0\n",
      "1804036966669548.0\n",
      "3.002864631946643e+21\n",
      "4.998343251490986e+27\n",
      "1.1986730068803377e+32\n",
      "1.1867774941757928e+32\n",
      "8.084929613119388e+31\n",
      "7.464277548366853e+31\n",
      "1.6586195334886605e+32\n",
      "1.6789802126313786e+32\n",
      "5.384302452655992e+31\n",
      "6.0400072137073875e+31\n",
      "3.007396288786083e+31\n",
      "6.307591654503976e+31\n",
      "3.9987132302705823e+31\n",
      "1.8139616140440093e+32\n",
      "4.556166042168352e+31\n",
      "1.228134027547892e+32\n",
      "1.792204154661744e+32\n",
      "6.205383391216596e+31\n"
     ]
    }
   ],
   "source": [
    "class LCG:\n",
    "    def __init__(self, seed):\n",
    "        self.m=2e32\n",
    "        self.a=1664525\n",
    "        self.c=1013904223\n",
    "        self.vals=[seed]\n",
    "        self.idx = 0\n",
    "        \n",
    "    def get_random(self):\n",
    "        self.idx += 1\n",
    "        self.vals.extend([(self.a*self.vals[self.idx-1]+self.c)%self.m])\n",
    "        return self.vals[self.idx]\n",
    "\n",
    "    \n",
    "lcg = LCG(42)\n",
    "for _ in range(20):\n",
    "    print(lcg.get_random())"
   ]
  },
  {
   "cell_type": "code",
   "execution_count": 118,
   "metadata": {
    "collapsed": false
   },
   "outputs": [
    {
     "data": {
      "text/plain": [
       "0.377"
      ]
     },
     "execution_count": 118,
     "metadata": {},
     "output_type": "execute_result"
    }
   ],
   "source": [
    "# Python uses the Mersenne Twister PRNG.\n",
    "import random\n",
    "random.seed(25)\n",
    "random.uniform(0,1)"
   ]
  },
  {
   "cell_type": "code",
   "execution_count": 126,
   "metadata": {
    "collapsed": false
   },
   "outputs": [
    {
     "name": "stdout",
     "output_type": "stream",
     "text": [
      "(2000000, 201)\n"
     ]
    }
   ],
   "source": [
    "rule = 30\n",
    "n = 2000000\n",
    "ca = Cell1D(rule, n,m=201)\n",
    "ca.start_single()\n",
    "ca.loop(n-1)\n",
    "print(ca.array.shape)\n",
    "out_col = ca.array[:,100]"
   ]
  }
 ],
 "metadata": {
  "kernelspec": {
   "display_name": "Python 3",
   "language": "python",
   "name": "python3"
  },
  "language_info": {
   "codemirror_mode": {
    "name": "ipython",
    "version": 3
   },
   "file_extension": ".py",
   "mimetype": "text/x-python",
   "name": "python",
   "nbconvert_exporter": "python",
   "pygments_lexer": "ipython3",
   "version": "3.4.3"
  }
 },
 "nbformat": 4,
 "nbformat_minor": 0
}
